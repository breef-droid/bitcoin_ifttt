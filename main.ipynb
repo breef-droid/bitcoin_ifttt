{
 "cells": [
  {
   "cell_type": "markdown",
   "metadata": {},
   "source": [
    "# Python Bitcoin notification app\n",
    "https://realpython.com/python-bitcoin-ifttt/"
   ]
  },
  {
   "cell_type": "markdown",
   "metadata": {},
   "source": [
    "## Storing API keys securely\n",
    "https://www.google.com/search?client=firefox-b-d&q=storing+api+keys+in+python+projects+best+practices#kpvalbx=_ct3yYrCRKNTzgAakq5LwDw11\n",
    "1. Install the following library: `pip install python-dotenv`\n",
    "2. Create a `.env` file in your working directory (add this to your .gitignore file)\n",
    "    * Add the APIKey to the file as a variable ('' not needed)\n",
    "3. Import library: `from dotenv import load_env`\n",
    "4. Create a configure function that calls `load_dotenv`\n",
    "5. To access the .env variables import the os library\n",
    "6. To access the variable use `os.getenv(\"name of .env variable\")"
   ]
  },
  {
   "cell_type": "code",
   "execution_count": 6,
   "metadata": {},
   "outputs": [],
   "source": [
    "from requests import Request, Session\n",
    "from dotenv import load_dotenv\n",
    "import os\n",
    "import json"
   ]
  },
  {
   "cell_type": "code",
   "execution_count": 7,
   "metadata": {},
   "outputs": [],
   "source": [
    "def configure():\n",
    "    load_dotenv()"
   ]
  },
  {
   "cell_type": "code",
   "execution_count": 16,
   "metadata": {},
   "outputs": [
    {
     "data": {
      "text/plain": [
       "19226.356075457636"
      ]
     },
     "execution_count": 16,
     "metadata": {},
     "output_type": "execute_result"
    }
   ],
   "source": [
    "url = 'https://pro-api.coinmarketcap.com/v1/cryptocurrency/listings/latest'\n",
    "parameters = {\n",
    "  'start':'1',\n",
    "  'limit':'5000',\n",
    "  'convert':'GBP'\n",
    "}\n",
    "headers = {\n",
    "  'Accepts': 'application/json',\n",
    "  'X-CMC_PRO_API_KEY': os.getenv('API_KEY'),\n",
    "}\n",
    "\n",
    "session = Session()\n",
    "session.headers.update(headers)\n",
    "\n",
    "try:\n",
    "    response = session.get(url, params= parameters)\n",
    "    data = json.loads(response.text)\n",
    "    # print(data)\n",
    "except (ConnectionError, Timeout, TooManyRedirects) as e:\n",
    "    print(e)\n",
    "\n",
    "response_json = response.json()\n",
    "response_json['data']['name'=='bitcoin']['quote']['GBP']['price']"
   ]
  },
  {
   "cell_type": "code",
   "execution_count": null,
   "metadata": {},
   "outputs": [],
   "source": []
  }
 ],
 "metadata": {
  "kernelspec": {
   "display_name": "Python 3.10.0 ('bitcoin_ifttt': venv)",
   "language": "python",
   "name": "python3"
  },
  "language_info": {
   "codemirror_mode": {
    "name": "ipython",
    "version": 3
   },
   "file_extension": ".py",
   "mimetype": "text/x-python",
   "name": "python",
   "nbconvert_exporter": "python",
   "pygments_lexer": "ipython3",
   "version": "3.10.0"
  },
  "orig_nbformat": 4,
  "vscode": {
   "interpreter": {
    "hash": "047c1dbc850011673b590905e60de6487dbb51cca96df81f904d108ce5fbf1d7"
   }
  }
 },
 "nbformat": 4,
 "nbformat_minor": 2
}
