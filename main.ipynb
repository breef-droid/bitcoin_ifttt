{
 "cells": [
  {
   "cell_type": "markdown",
   "metadata": {},
   "source": [
    "# Python Bitcoin notification app\n",
    "https://realpython.com/python-bitcoin-ifttt/\n",
    "### Thoughts\n",
    "Bad tutorial, code examples impletmented are not pythonic"
   ]
  },
  {
   "cell_type": "markdown",
   "metadata": {},
   "source": [
    "## Storing API keys securely\n",
    "https://www.google.com/search?client=firefox-b-d&q=storing+api+keys+in+python+projects+best+practices#kpvalbx=_ct3yYrCRKNTzgAakq5LwDw11\n",
    "1. Install the following library: `pip install python-dotenv`\n",
    "2. Create a `.env` file in your working directory (add this to your .gitignore file)\n",
    "    * Add the APIKey to the file as a variable ('' not needed)\n",
    "3. Import library: `from dotenv import load_env`\n",
    "4. Create a configure function that calls `load_dotenv`\n",
    "5. To access the .env variables import the os library\n",
    "6. To access the variable use `os.getenv(\"name of .env variable\")"
   ]
  },
  {
   "cell_type": "code",
   "execution_count": 12,
   "metadata": {},
   "outputs": [],
   "source": [
    "from requests import Request, Session\n",
    "import requests\n",
    "from dotenv import load_dotenv\n",
    "import os\n",
    "import json\n",
    "import time\n",
    "from datetime import datetime"
   ]
  },
  {
   "cell_type": "code",
   "execution_count": 13,
   "metadata": {},
   "outputs": [],
   "source": [
    "def configure():\n",
    "    load_dotenv()"
   ]
  },
  {
   "cell_type": "code",
   "execution_count": 17,
   "metadata": {},
   "outputs": [
    {
     "data": {
      "text/plain": [
       "<Response [200]>"
      ]
     },
     "execution_count": 17,
     "metadata": {},
     "output_type": "execute_result"
    }
   ],
   "source": [
    "# IFTTT webhook test\n",
    "ifttt_webhook_url = f'https://maker.ifttt.com/trigger/test_event/with/key/{os.getenv(\"IFTTT_KEY\")}'\n",
    "requests.post(ifttt_webhook_url)"
   ]
  },
  {
   "cell_type": "code",
   "execution_count": 41,
   "metadata": {},
   "outputs": [
    {
     "name": "stdout",
     "output_type": "stream",
     "text": [
      "[{'date': datetime.datetime(2022, 8, 10, 23, 20, 38, 364589), 'price': 19607.25}]\n",
      "[{'date': datetime.datetime(2022, 8, 10, 23, 20, 38, 364589), 'price': 19607.25}, {'date': datetime.datetime(2022, 8, 10, 23, 20, 40, 465216), 'price': 19607.25}]\n",
      "[{'date': datetime.datetime(2022, 8, 10, 23, 20, 38, 364589), 'price': 19607.25}, {'date': datetime.datetime(2022, 8, 10, 23, 20, 40, 465216), 'price': 19607.25}, {'date': datetime.datetime(2022, 8, 10, 23, 20, 42, 727491), 'price': 19607.25}]\n",
      "[{'date': datetime.datetime(2022, 8, 10, 23, 20, 38, 364589), 'price': 19607.25}, {'date': datetime.datetime(2022, 8, 10, 23, 20, 40, 465216), 'price': 19607.25}, {'date': datetime.datetime(2022, 8, 10, 23, 20, 42, 727491), 'price': 19607.25}, {'date': datetime.datetime(2022, 8, 10, 23, 20, 44, 719897), 'price': 19607.25}]\n",
      "[{'date': datetime.datetime(2022, 8, 10, 23, 20, 38, 364589), 'price': 19607.25}, {'date': datetime.datetime(2022, 8, 10, 23, 20, 40, 465216), 'price': 19607.25}, {'date': datetime.datetime(2022, 8, 10, 23, 20, 42, 727491), 'price': 19607.25}, {'date': datetime.datetime(2022, 8, 10, 23, 20, 44, 719897), 'price': 19607.25}, {'date': datetime.datetime(2022, 8, 10, 23, 20, 46, 801890), 'price': 19607.25}]\n"
     ]
    }
   ],
   "source": [
    "BITCOIN_PRICE_THRESHOLD=20000\n",
    "\n",
    "def coin_data():\n",
    "    '''\n",
    "    Function returns all data from url in json format\n",
    "    '''\n",
    "    url = 'https://pro-api.coinmarketcap.com/v1/cryptocurrency/listings/latest'\n",
    "    parameters = {\n",
    "    'start':'1',\n",
    "    'limit':'5000',\n",
    "    'convert':'GBP'\n",
    "    }\n",
    "    headers = {\n",
    "    'Accepts': 'application/json',\n",
    "    'X-CMC_PRO_API_KEY': os.getenv('API_KEY'),\n",
    "    }\n",
    "\n",
    "    session = Session()\n",
    "    session.headers.update(headers)\n",
    "\n",
    "    try:\n",
    "        response = session.get(url, params= parameters)\n",
    "        data = json.loads(response.text)\n",
    "        # print(data)\n",
    "    except (ConnectionError, Timeout, TooManyRedirects) as e:\n",
    "        print(e)\n",
    "        \n",
    "    return round(float(data['data']['name'=='bitcoin']['quote']['GBP']['price']),2)\n",
    "\n",
    "def post_ifttt_webhook(event, value):\n",
    "    '''\n",
    "        sends a post request to IFTTT: event must trigger an event name in IFTTT\n",
    "    '''\n",
    "    # payload to be sent to IFTTT service\n",
    "    data = {'value1':value} #key value must agree to var name set up in ifttt\n",
    "    ifttt_webhook_url = f'https://maker.ifttt.com/trigger/{{}}/with/key/{os.getenv(\"IFTTT_KEY\")}'\n",
    "    ifttt_event_url = ifttt_webhook_url.format(event)\n",
    "    # sent a post request to webhook url\n",
    "    requests.post(ifttt_event_url, json= data)\n",
    "\n",
    "def format_bitcoin_history(bitcoin_history):\n",
    "    '''\n",
    "        takes a list as input and formats it to http\n",
    "    '''\n",
    "    rows = []\n",
    "    for bitcoin_price in bitcoin_history:\n",
    "        date = bitcoin_price['date'].strftime('%d.%m.%Y %H:%M')\n",
    "        price = bitcoin_price['price']\n",
    "        row = '{}: $<b>{}</b>'.format(date, price)\n",
    "        rows.append(row)\n",
    "        return '<br>'.join(rows)\n",
    "\n",
    "def main():\n",
    "    bitcoin_history=[]\n",
    "    while True:\n",
    "        price = coin_data() #gets latest btc price\n",
    "        date = datetime.now()\n",
    "        bitcoin_history.append({'date': date, 'price': price}) # appends date price dict to list\n",
    "\n",
    "        #Sends an emergency notification\n",
    "        if float(price) < BITCOIN_PRICE_THRESHOLD:\n",
    "            post_ifttt_webhook('bitcoin_price_emergency', price)\n",
    "        \n",
    "        print(bitcoin_history)\n",
    "        # Send a telegram notification\n",
    "        # Once there are 5 items in the price history send an update\n",
    "        if len(bitcoin_history) == 5:\n",
    "            post_ifttt_webhook('bitcoin_price_update',\n",
    "                                format_bitcoin_history(bitcoin_history))\n",
    "            bitcoin_history = [] # resets history\n",
    "            return\n",
    "        \n",
    "        # sleeps script\n",
    "        time.sleep(1)\n",
    "\n",
    "if __name__ == '__main__': # explanation: https://stackoverflow.com/questions/419163/what-does-if-name-main-do\n",
    "    main()\n"
   ]
  },
  {
   "cell_type": "code",
   "execution_count": null,
   "metadata": {},
   "outputs": [],
   "source": []
  }
 ],
 "metadata": {
  "kernelspec": {
   "display_name": "Python 3.10.0 ('bitcoin_ifttt': venv)",
   "language": "python",
   "name": "python3"
  },
  "language_info": {
   "codemirror_mode": {
    "name": "ipython",
    "version": 3
   },
   "file_extension": ".py",
   "mimetype": "text/x-python",
   "name": "python",
   "nbconvert_exporter": "python",
   "pygments_lexer": "ipython3",
   "version": "3.10.0"
  },
  "orig_nbformat": 4,
  "vscode": {
   "interpreter": {
    "hash": "047c1dbc850011673b590905e60de6487dbb51cca96df81f904d108ce5fbf1d7"
   }
  }
 },
 "nbformat": 4,
 "nbformat_minor": 2
}
